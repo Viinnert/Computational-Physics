{
 "cells": [
  {
   "cell_type": "code",
   "execution_count": 1,
   "metadata": {},
   "outputs": [],
   "source": [
    "import numpy as np\n",
    "import h5py as hdf\n",
    "import os\n",
    "\n",
    "WORKDIR_PATH = os.getcwd()\n",
    "DATA_PATH = WORKDIR_PATH + \"/data/\" \n",
    "DATA_FILENAME = \"trajectories.hdf5\"\n",
    "\n",
    "N = 3 #Number of particles\n",
    "\n",
    "END_OF_TIME = 10.0 #Maximum time (s)\n",
    "h = 0.1 #Timestep (s)\n",
    "t = np.arange(0, END_OF_TIME, h) #Time array (s)\n",
    "\n",
    "\n",
    "N_DIM = 2 #Number of dimensions\n",
    "L = 10 #Canvas side length (length unit\n",
    "CANVAS_SIZE = np.array([L, L]) #Canvas size (must be np.array!)"
   ]
  },
  {
   "cell_type": "code",
   "execution_count": null,
   "metadata": {},
   "outputs": [],
   "source": []
  },
  {
   "cell_type": "markdown",
   "metadata": {},
   "source": [
    "## Basic (Day 1) Simulation:"
   ]
  },
  {
   "cell_type": "code",
   "execution_count": null,
   "metadata": {},
   "outputs": [],
   "source": [
    "canvas = Canvas(N_DIM, CANVAS_SIZE)\n",
    "\n",
    "initialize_random(canvas, N)\n"
   ]
  },
  {
   "cell_type": "code",
   "execution_count": null,
   "metadata": {},
   "outputs": [],
   "source": []
  }
 ],
 "metadata": {
  "interpreter": {
   "hash": "1bbee1fe5f0ee5f5a941984fc5b0c7cab01a22a682172097a1f2df8f94c0f9a6"
  },
  "kernelspec": {
   "display_name": "Python 3.9.7 64-bit ('base': conda)",
   "language": "python",
   "name": "python3"
  },
  "language_info": {
   "codemirror_mode": {
    "name": "ipython",
    "version": 3
   },
   "file_extension": ".py",
   "mimetype": "text/x-python",
   "name": "python",
   "nbconvert_exporter": "python",
   "pygments_lexer": "ipython3",
   "version": "3.9.7"
  },
  "orig_nbformat": 4
 },
 "nbformat": 4,
 "nbformat_minor": 2
}
